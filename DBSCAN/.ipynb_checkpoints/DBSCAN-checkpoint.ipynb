{
 "cells": [
  {
   "cell_type": "code",
   "execution_count": 135,
   "metadata": {},
   "outputs": [],
   "source": [
    "import matplotlib.pyplot as plt\n",
    "import pandas as pd\n",
    "import numpy as np"
   ]
  },
  {
   "cell_type": "markdown",
   "metadata": {},
   "source": [
    "## PostGres Connections"
   ]
  },
  {
   "cell_type": "code",
   "execution_count": 152,
   "metadata": {},
   "outputs": [],
   "source": [
    "import psycopg2"
   ]
  },
  {
   "cell_type": "code",
   "execution_count": 153,
   "metadata": {},
   "outputs": [
    {
     "data": {
      "text/plain": [
       "Engine(postgresql://patrickmaus@localhost:5432/ais_test)"
      ]
     },
     "execution_count": 153,
     "metadata": {},
     "output_type": "execute_result"
    }
   ],
   "source": [
    "from sqlalchemy import create_engine\n",
    "engine = create_engine('postgresql://patrickmaus@localhost:5432/{}'.format(database))\n",
    "\n",
    "engine"
   ]
  },
  {
   "cell_type": "markdown",
   "metadata": {},
   "source": [
    "## Clean Port Data"
   ]
  },
  {
   "cell_type": "code",
   "execution_count": 181,
   "metadata": {},
   "outputs": [
    {
     "data": {
      "text/html": [
       "<div>\n",
       "<style scoped>\n",
       "    .dataframe tbody tr th:only-of-type {\n",
       "        vertical-align: middle;\n",
       "    }\n",
       "\n",
       "    .dataframe tbody tr th {\n",
       "        vertical-align: top;\n",
       "    }\n",
       "\n",
       "    .dataframe thead th {\n",
       "        text-align: right;\n",
       "    }\n",
       "</style>\n",
       "<table border=\"1\" class=\"dataframe\">\n",
       "  <thead>\n",
       "    <tr style=\"text-align: right;\">\n",
       "      <th></th>\n",
       "      <th>index_no</th>\n",
       "      <th>port_name</th>\n",
       "      <th>lat</th>\n",
       "      <th>lon</th>\n",
       "    </tr>\n",
       "  </thead>\n",
       "  <tbody>\n",
       "    <tr>\n",
       "      <th>0</th>\n",
       "      <td>61090</td>\n",
       "      <td>SHAKOTAN</td>\n",
       "      <td>43.866667</td>\n",
       "      <td>146.833333</td>\n",
       "    </tr>\n",
       "    <tr>\n",
       "      <th>1</th>\n",
       "      <td>61110</td>\n",
       "      <td>MOMBETSU KO</td>\n",
       "      <td>44.350000</td>\n",
       "      <td>143.350000</td>\n",
       "    </tr>\n",
       "    <tr>\n",
       "      <th>2</th>\n",
       "      <td>5750</td>\n",
       "      <td>CHARLOTTETOWN</td>\n",
       "      <td>46.233333</td>\n",
       "      <td>-63.133333</td>\n",
       "    </tr>\n",
       "    <tr>\n",
       "      <th>3</th>\n",
       "      <td>61120</td>\n",
       "      <td>ABASHIRI KO</td>\n",
       "      <td>44.016667</td>\n",
       "      <td>144.283333</td>\n",
       "    </tr>\n",
       "    <tr>\n",
       "      <th>4</th>\n",
       "      <td>61130</td>\n",
       "      <td>NEMURO KO</td>\n",
       "      <td>43.333333</td>\n",
       "      <td>145.583333</td>\n",
       "    </tr>\n",
       "  </tbody>\n",
       "</table>\n",
       "</div>"
      ],
      "text/plain": [
       "   index_no      port_name        lat         lon\n",
       "0     61090       SHAKOTAN  43.866667  146.833333\n",
       "1     61110    MOMBETSU KO  44.350000  143.350000\n",
       "2      5750  CHARLOTTETOWN  46.233333  -63.133333\n",
       "3     61120    ABASHIRI KO  44.016667  144.283333\n",
       "4     61130      NEMURO KO  43.333333  145.583333"
      ]
     },
     "execution_count": 181,
     "metadata": {},
     "output_type": "execute_result"
    }
   ],
   "source": [
    "ports_full = pd.read_csv('wpi.csv')\n",
    "ports = ports_full[['index_no','port_name','latitude','longitude']]\n",
    "ports = ports.rename(columns={'latitude':'lat','longitude':'lon'})\n",
    "ports.head()"
   ]
  },
  {
   "cell_type": "markdown",
   "metadata": {},
   "source": [
    "## Get Data"
   ]
  },
  {
   "cell_type": "code",
   "execution_count": 138,
   "metadata": {},
   "outputs": [
    {
     "name": "stdout",
     "output_type": "stream",
     "text": [
      "<class 'pandas.core.frame.DataFrame'>\n",
      "RangeIndex: 2155696 entries, 0 to 2155695\n",
      "Data columns (total 4 columns):\n",
      " #   Column     Dtype  \n",
      "---  ------     -----  \n",
      " 0   mmsi       int64  \n",
      " 1   time       object \n",
      " 2   port_name  object \n",
      " 3   port_id    float64\n",
      "dtypes: float64(1), int64(1), object(2)\n",
      "memory usage: 65.8+ MB\n"
     ]
    }
   ],
   "source": [
    "port_activity = pd.read_csv('port_activity_sample.csv')\n",
    "port_activity.head()\n",
    "port_activity.info()"
   ]
  },
  {
   "cell_type": "code",
   "execution_count": 139,
   "metadata": {},
   "outputs": [
    {
     "name": "stdout",
     "output_type": "stream",
     "text": [
      "<class 'pandas.core.frame.DataFrame'>\n",
      "RangeIndex: 2155696 entries, 0 to 2155695\n",
      "Data columns (total 4 columns):\n",
      " #   Column  Dtype  \n",
      "---  ------  -----  \n",
      " 0   mmsi    int64  \n",
      " 1   time    object \n",
      " 2   lat     float64\n",
      " 3   lon     float64\n",
      "dtypes: float64(2), int64(1), object(1)\n",
      "memory usage: 65.8+ MB\n"
     ]
    }
   ],
   "source": [
    "ship_position = pd.read_csv('ship_position_sample.csv')\n",
    "ship_position.head()\n",
    "ship_position.info()"
   ]
  },
  {
   "cell_type": "code",
   "execution_count": 140,
   "metadata": {},
   "outputs": [],
   "source": [
    "df = pd.merge(port_activity, ship_position, how='left', on=['mmsi','time'])"
   ]
  },
  {
   "cell_type": "code",
   "execution_count": 141,
   "metadata": {},
   "outputs": [
    {
     "data": {
      "text/html": [
       "<div>\n",
       "<style scoped>\n",
       "    .dataframe tbody tr th:only-of-type {\n",
       "        vertical-align: middle;\n",
       "    }\n",
       "\n",
       "    .dataframe tbody tr th {\n",
       "        vertical-align: top;\n",
       "    }\n",
       "\n",
       "    .dataframe thead th {\n",
       "        text-align: right;\n",
       "    }\n",
       "</style>\n",
       "<table border=\"1\" class=\"dataframe\">\n",
       "  <thead>\n",
       "    <tr style=\"text-align: right;\">\n",
       "      <th></th>\n",
       "      <th>mmsi</th>\n",
       "      <th>time</th>\n",
       "      <th>port_name</th>\n",
       "      <th>port_id</th>\n",
       "      <th>lat</th>\n",
       "      <th>lon</th>\n",
       "    </tr>\n",
       "  </thead>\n",
       "  <tbody>\n",
       "    <tr>\n",
       "      <th>0</th>\n",
       "      <td>976800</td>\n",
       "      <td>2017-01-31 23:38:37</td>\n",
       "      <td>NaN</td>\n",
       "      <td>NaN</td>\n",
       "      <td>27.33239</td>\n",
       "      <td>-82.54572</td>\n",
       "    </tr>\n",
       "    <tr>\n",
       "      <th>1</th>\n",
       "      <td>976800</td>\n",
       "      <td>2017-01-31 23:41:36</td>\n",
       "      <td>NaN</td>\n",
       "      <td>NaN</td>\n",
       "      <td>27.33236</td>\n",
       "      <td>-82.54572</td>\n",
       "    </tr>\n",
       "    <tr>\n",
       "      <th>2</th>\n",
       "      <td>976800</td>\n",
       "      <td>2017-01-31 23:47:38</td>\n",
       "      <td>NaN</td>\n",
       "      <td>NaN</td>\n",
       "      <td>27.33238</td>\n",
       "      <td>-82.54570</td>\n",
       "    </tr>\n",
       "    <tr>\n",
       "      <th>3</th>\n",
       "      <td>976800</td>\n",
       "      <td>2017-01-31 23:50:36</td>\n",
       "      <td>NaN</td>\n",
       "      <td>NaN</td>\n",
       "      <td>27.33240</td>\n",
       "      <td>-82.54569</td>\n",
       "    </tr>\n",
       "    <tr>\n",
       "      <th>4</th>\n",
       "      <td>976800</td>\n",
       "      <td>2017-01-31 23:53:36</td>\n",
       "      <td>NaN</td>\n",
       "      <td>NaN</td>\n",
       "      <td>27.33239</td>\n",
       "      <td>-82.54570</td>\n",
       "    </tr>\n",
       "  </tbody>\n",
       "</table>\n",
       "</div>"
      ],
      "text/plain": [
       "     mmsi                 time port_name  port_id       lat       lon\n",
       "0  976800  2017-01-31 23:38:37       NaN      NaN  27.33239 -82.54572\n",
       "1  976800  2017-01-31 23:41:36       NaN      NaN  27.33236 -82.54572\n",
       "2  976800  2017-01-31 23:47:38       NaN      NaN  27.33238 -82.54570\n",
       "3  976800  2017-01-31 23:50:36       NaN      NaN  27.33240 -82.54569\n",
       "4  976800  2017-01-31 23:53:36       NaN      NaN  27.33239 -82.54570"
      ]
     },
     "execution_count": 141,
     "metadata": {},
     "output_type": "execute_result"
    }
   ],
   "source": [
    "df.head()"
   ]
  },
  {
   "cell_type": "code",
   "execution_count": 143,
   "metadata": {},
   "outputs": [
    {
     "name": "stdout",
     "output_type": "stream",
     "text": [
      "<class 'pandas.core.frame.DataFrame'>\n",
      "Int64Index: 9969 entries, 2088541 to 2098509\n",
      "Data columns (total 6 columns):\n",
      " #   Column     Non-Null Count  Dtype  \n",
      "---  ------     --------------  -----  \n",
      " 0   mmsi       9969 non-null   int64  \n",
      " 1   time       9969 non-null   object \n",
      " 2   port_name  288 non-null    object \n",
      " 3   port_id    288 non-null    float64\n",
      " 4   lat        9969 non-null   float64\n",
      " 5   lon        9969 non-null   float64\n",
      "dtypes: float64(3), int64(1), object(2)\n",
      "memory usage: 545.2+ KB\n"
     ]
    }
   ],
   "source": [
    "df_rick = df[df['mmsi']==538090091]\n",
    "df_rick.info()"
   ]
  },
  {
   "cell_type": "code",
   "execution_count": 144,
   "metadata": {},
   "outputs": [
    {
     "name": "stdout",
     "output_type": "stream",
     "text": [
      "<class 'pandas.core.frame.DataFrame'>\n",
      "Int64Index: 390994 entries, 373 to 2149498\n",
      "Data columns (total 6 columns):\n",
      " #   Column     Non-Null Count   Dtype  \n",
      "---  ------     --------------   -----  \n",
      " 0   mmsi       390994 non-null  int64  \n",
      " 1   time       390994 non-null  object \n",
      " 2   port_name  390994 non-null  object \n",
      " 3   port_id    390994 non-null  float64\n",
      " 4   lat        390994 non-null  float64\n",
      " 5   lon        390994 non-null  float64\n",
      "dtypes: float64(3), int64(1), object(2)\n",
      "memory usage: 20.9+ MB\n"
     ]
    }
   ],
   "source": [
    "df_ports = df[df['port_id'] > 0]\n",
    "df_ports.info()"
   ]
  },
  {
   "cell_type": "code",
   "execution_count": 145,
   "metadata": {},
   "outputs": [
    {
     "name": "stdout",
     "output_type": "stream",
     "text": [
      "157\n",
      "390994\n"
     ]
    }
   ],
   "source": [
    "print(len((df_ports['port_id'].unique())))\n",
    "print(len(df_ports))\n"
   ]
  },
  {
   "cell_type": "markdown",
   "metadata": {},
   "source": [
    "## Run DB Scan"
   ]
  },
  {
   "cell_type": "code",
   "execution_count": 245,
   "metadata": {},
   "outputs": [],
   "source": [
    "df = df_rick\n",
    "eps = .025\n",
    "min_samples = 5"
   ]
  },
  {
   "cell_type": "code",
   "execution_count": 246,
   "metadata": {},
   "outputs": [
    {
     "name": "stdout",
     "output_type": "stream",
     "text": [
      "Number of unique labels:  [-1  0  1  2  3  4  5  6  7  8  9 10 11 12 13 14 15]\n",
      "Number of  Core Samples: 9843\n"
     ]
    }
   ],
   "source": [
    "from sklearn.cluster import DBSCAN\n",
    "\n",
    "X = df[['lat','lon']].values\n",
    "\n",
    "dbscan = DBSCAN(eps=eps, min_samples=min_samples)\n",
    "dbscan.fit(X)\n",
    "\n",
    "print('Number of unique labels: ', np.unique(dbscan.labels_))\n",
    "print('Number of  Core Samples:' , len(dbscan.core_sample_indices_))\n",
    "\n",
    "results_dict = {'clust_id': dbscan.labels_,'lat':X[:, 0],'lon':X[:,1]}\n",
    "df_results = pd.DataFrame(results_dict)\n"
   ]
  },
  {
   "cell_type": "markdown",
   "metadata": {},
   "source": [
    "## Find Center of Each Cluster and compare to nearest Port"
   ]
  },
  {
   "cell_type": "code",
   "execution_count": 247,
   "metadata": {},
   "outputs": [],
   "source": [
    "from math import radians, cos, sin, asin, sqrt\n",
    "\n",
    "def haversine(lon1, lat1, lon2, lat2):\n",
    "    \"\"\"\n",
    "    Calculate the great circle distance between two points \n",
    "    on the earth (specified in decimal degrees)\n",
    "    \"\"\"\n",
    "    # convert decimal degrees to radians \n",
    "    lon1, lat1, lon2, lat2 = map(radians, [lon1, lat1, lon2, lat2])\n",
    "\n",
    "    # haversine formula \n",
    "    dlon = lon2 - lon1 \n",
    "    dlat = lat2 - lat1 \n",
    "    a = sin(dlat/2)**2 + cos(lat1) * cos(lat2) * sin(dlon/2)**2\n",
    "    c = 2 * asin(sqrt(a)) \n",
    "    r = 3956  # 6371 Radius of earth in kilometers. Use 3956 for miles\n",
    "    return c * r\n",
    "\n",
    "def determine_min_distances(df1, name_1, df2, name_2):\n",
    "    min_distances = []\n",
    "    for i in range(len(df1)):\n",
    "        lon1 = df1['lon'].loc[i]\n",
    "        lat1 = df1['lat'].loc[i]\n",
    "        distances = []\n",
    "        for x in range(len(df2)):\n",
    "            lon2 = df2['lon'].loc[x]\n",
    "            lat2 = df2['lat'].loc[x]\n",
    "            dist = haversine(lon1, lat1, lon2, lat2)\n",
    "            distances.append((round(dist,3),df1[name_1].loc[i],df2[name_2].loc[x]))\n",
    "        min_distances.append(min(distances))\n",
    "    return(min_distances)"
   ]
  },
  {
   "cell_type": "code",
   "execution_count": 248,
   "metadata": {},
   "outputs": [],
   "source": [
    "dist = determine_min_distances(centers,'clust_id',ports,'port_name')\n",
    "df_dist = pd.DataFrame(dist, columns=['distance from center', 'clust_id', 'nearest_port'])"
   ]
  },
  {
   "cell_type": "code",
   "execution_count": 249,
   "metadata": {},
   "outputs": [
    {
     "data": {
      "text/html": [
       "<div>\n",
       "<style scoped>\n",
       "    .dataframe tbody tr th:only-of-type {\n",
       "        vertical-align: middle;\n",
       "    }\n",
       "\n",
       "    .dataframe tbody tr th {\n",
       "        vertical-align: top;\n",
       "    }\n",
       "\n",
       "    .dataframe thead th {\n",
       "        text-align: right;\n",
       "    }\n",
       "</style>\n",
       "<table border=\"1\" class=\"dataframe\">\n",
       "  <thead>\n",
       "    <tr style=\"text-align: right;\">\n",
       "      <th></th>\n",
       "      <th>clust_id</th>\n",
       "      <th>lat</th>\n",
       "      <th>lon</th>\n",
       "      <th>counts</th>\n",
       "      <th>distance from center</th>\n",
       "      <th>nearest_port</th>\n",
       "    </tr>\n",
       "  </thead>\n",
       "  <tbody>\n",
       "    <tr>\n",
       "      <th>0</th>\n",
       "      <td>-1</td>\n",
       "      <td>29.558470</td>\n",
       "      <td>-79.801224</td>\n",
       "      <td>86</td>\n",
       "      <td>33.037</td>\n",
       "      <td>GEORGETOWN</td>\n",
       "    </tr>\n",
       "    <tr>\n",
       "      <th>1</th>\n",
       "      <td>0</td>\n",
       "      <td>29.088460</td>\n",
       "      <td>-89.467466</td>\n",
       "      <td>967</td>\n",
       "      <td>3.249</td>\n",
       "      <td>CAMDEN</td>\n",
       "    </tr>\n",
       "    <tr>\n",
       "      <th>2</th>\n",
       "      <td>1</td>\n",
       "      <td>29.878024</td>\n",
       "      <td>-89.937014</td>\n",
       "      <td>387</td>\n",
       "      <td>10.875</td>\n",
       "      <td>BEAUFORT</td>\n",
       "    </tr>\n",
       "    <tr>\n",
       "      <th>3</th>\n",
       "      <td>2</td>\n",
       "      <td>27.298423</td>\n",
       "      <td>-88.385550</td>\n",
       "      <td>6</td>\n",
       "      <td>NaN</td>\n",
       "      <td>NaN</td>\n",
       "    </tr>\n",
       "    <tr>\n",
       "      <th>4</th>\n",
       "      <td>3</td>\n",
       "      <td>27.196300</td>\n",
       "      <td>-88.315568</td>\n",
       "      <td>21</td>\n",
       "      <td>NaN</td>\n",
       "      <td>NaN</td>\n",
       "    </tr>\n",
       "  </tbody>\n",
       "</table>\n",
       "</div>"
      ],
      "text/plain": [
       "   clust_id        lat        lon  counts  distance from center nearest_port\n",
       "0        -1  29.558470 -79.801224      86                33.037   GEORGETOWN\n",
       "1         0  29.088460 -89.467466     967                 3.249       CAMDEN\n",
       "2         1  29.878024 -89.937014     387                10.875     BEAUFORT\n",
       "3         2  27.298423 -88.385550       6                   NaN          NaN\n",
       "4         3  27.196300 -88.315568      21                   NaN          NaN"
      ]
     },
     "execution_count": 249,
     "metadata": {},
     "output_type": "execute_result"
    }
   ],
   "source": [
    "# group the results from the haversine by mean to get the centerpoint of the cluster\n",
    "centers = df_results.groupby('clust_id').mean().reset_index()\n",
    "# group the same results by count to get the total number of positions\n",
    "counts = df_results.groupby('clust_id').count()\n",
    "# select only one column, in this case I chose lat\n",
    "counts['counts'] = counts['lat']\n",
    "# drop the other columns so count is now just the clust_id and the summed counts\n",
    "counts.drop(['lat','lon'], axis=1, inplace=True)\n",
    "# merge counts and centers\n",
    "centers = pd.merge(centers, counts, how='left', on='clust_id')\n",
    "# merge the full centers file with the results of the haversine equation\n",
    "centers = pd.merge(centers, df_dist, how='left', on='clust_id')\n",
    "centers.head()\n"
   ]
  },
  {
   "cell_type": "markdown",
   "metadata": {},
   "source": [
    "## Adding to Database for QGIS visualization"
   ]
  },
  {
   "cell_type": "code",
   "execution_count": 161,
   "metadata": {},
   "outputs": [
    {
     "name": "stdout",
     "output_type": "stream",
     "text": [
      "Connection to ais_test is good.\n"
     ]
    }
   ],
   "source": [
    "#%% Make and test conn and cursor\n",
    "conn = psycopg2.connect(host=\"localhost\",database=database)\n",
    "c = conn.cursor()\n",
    "if c:\n",
    "    print('Connection to {} is good.'.format(database))\n",
    "else:\n",
    "    print('Error connecting.')\n",
    "c.close()"
   ]
  },
  {
   "cell_type": "code",
   "execution_count": 162,
   "metadata": {},
   "outputs": [],
   "source": [
    "def df_to_table_with_geom(df, name, eps, min_samples):\n",
    "    # add the eps and min_samples value to table name\n",
    "    new_table_name = 'dbscan_results_' + name + '_' + '_' + str(min_samples)\n",
    "    \n",
    "    # drop table if an old one exists\n",
    "    c = conn.cursor()\n",
    "    c.execute(\"\"\"DROP TABLE IF EXISTS {}\"\"\".format(new_table_name))\n",
    "    conn.commit()\n",
    "    c.close()\n",
    "    # make a new table with the df\n",
    "    df.to_sql(new_table_name, engine)\n",
    "    # add a geom column to the new table and populate it from the lat and lon columns\n",
    "    c = conn.cursor()\n",
    "    c.execute(\"\"\"ALTER TABLE {} ADD COLUMN \n",
    "                geom geometry(Point, 4326);\"\"\".format(new_table_name))\n",
    "    conn.commit()\n",
    "    c.execute(\"\"\"UPDATE {} SET \n",
    "                geom = ST_SetSRID(ST_MakePoint(lon, lat), 4326);\"\"\".format(new_table_name))\n",
    "    conn.commit()\n",
    "    c.close()"
   ]
  },
  {
   "cell_type": "code",
   "execution_count": 163,
   "metadata": {},
   "outputs": [],
   "source": [
    "df_to_table_with_geom(df_results, 'df_rick', eps, min_samples)"
   ]
  },
  {
   "cell_type": "markdown",
   "metadata": {},
   "source": [
    "## Original Code from book"
   ]
  },
  {
   "cell_type": "code",
   "execution_count": 6,
   "metadata": {},
   "outputs": [],
   "source": [
    "from sklearn.cluster import DBSCAN"
   ]
  },
  {
   "cell_type": "code",
   "execution_count": 11,
   "metadata": {},
   "outputs": [
    {
     "data": {
      "text/plain": [
       "DBSCAN(algorithm='auto', eps=0.05, leaf_size=30, metric='euclidean',\n",
       "       metric_params=None, min_samples=5, n_jobs=None, p=None)"
      ]
     },
     "execution_count": 11,
     "metadata": {},
     "output_type": "execute_result"
    }
   ],
   "source": [
    "dbscan = DBSCAN(eps=0.05, min_samples=5)\n",
    "dbscan.fit(X)"
   ]
  },
  {
   "cell_type": "code",
   "execution_count": 12,
   "metadata": {},
   "outputs": [
    {
     "data": {
      "text/plain": [
       "array([ 0,  2, -1, -1,  1,  0,  0,  0,  2,  5])"
      ]
     },
     "execution_count": 12,
     "metadata": {},
     "output_type": "execute_result"
    }
   ],
   "source": [
    "dbscan.labels_[:10]"
   ]
  },
  {
   "cell_type": "code",
   "execution_count": 13,
   "metadata": {},
   "outputs": [
    {
     "data": {
      "text/plain": [
       "808"
      ]
     },
     "execution_count": 13,
     "metadata": {},
     "output_type": "execute_result"
    }
   ],
   "source": [
    "len(dbscan.core_sample_indices_)"
   ]
  },
  {
   "cell_type": "code",
   "execution_count": 14,
   "metadata": {},
   "outputs": [
    {
     "data": {
      "text/plain": [
       "array([ 0,  4,  5,  6,  7,  8, 10, 11, 12, 13])"
      ]
     },
     "execution_count": 14,
     "metadata": {},
     "output_type": "execute_result"
    }
   ],
   "source": [
    "dbscan.core_sample_indices_[:10]"
   ]
  },
  {
   "cell_type": "code",
   "execution_count": 15,
   "metadata": {},
   "outputs": [
    {
     "data": {
      "text/plain": [
       "array([[-0.02137124,  0.40618608],\n",
       "       [-0.84192557,  0.53058695],\n",
       "       [ 0.58930337, -0.32137599]])"
      ]
     },
     "execution_count": 15,
     "metadata": {},
     "output_type": "execute_result"
    }
   ],
   "source": [
    "dbscan.components_[:3]"
   ]
  },
  {
   "cell_type": "code",
   "execution_count": 16,
   "metadata": {},
   "outputs": [
    {
     "data": {
      "text/plain": [
       "array([-1,  0,  1,  2,  3,  4,  5,  6])"
      ]
     },
     "execution_count": 16,
     "metadata": {},
     "output_type": "execute_result"
    }
   ],
   "source": [
    "np.unique(dbscan.labels_)"
   ]
  },
  {
   "cell_type": "code",
   "execution_count": 17,
   "metadata": {},
   "outputs": [
    {
     "data": {
      "text/plain": [
       "DBSCAN(algorithm='auto', eps=0.2, leaf_size=30, metric='euclidean',\n",
       "       metric_params=None, min_samples=5, n_jobs=None, p=None)"
      ]
     },
     "execution_count": 17,
     "metadata": {},
     "output_type": "execute_result"
    }
   ],
   "source": [
    "dbscan2 = DBSCAN(eps=0.2)\n",
    "dbscan2.fit(X)"
   ]
  },
  {
   "cell_type": "code",
   "execution_count": 36,
   "metadata": {},
   "outputs": [],
   "source": [
    "def plot_dbscan(dbscan, X, size, show_xlabels=True, show_ylabels=True):\n",
    "    core_mask = np.zeros_like(dbscan.labels_, dtype=bool)\n",
    "    core_mask[dbscan.core_sample_indices_] = True\n",
    "    anomalies_mask = dbscan.labels_ == -1\n",
    "    non_core_mask = ~(core_mask | anomalies_mask)\n",
    "\n",
    "    cores = dbscan.components_\n",
    "    anomalies = X[anomalies_mask]\n",
    "    non_cores = X[non_core_mask]\n",
    "    \n",
    "    plt.scatter(cores[:, 0], cores[:, 1],\n",
    "                c=dbscan.labels_[core_mask], marker='o', s=size, cmap=\"Paired\")\n",
    "    plt.scatter(cores[:, 0], cores[:, 1], marker='*', s=20, c=dbscan.labels_[core_mask])\n",
    "    plt.scatter(anomalies[:, 0], anomalies[:, 1],\n",
    "                c=\"r\", marker=\"x\", s=100)\n",
    "    plt.scatter(non_cores[:, 0], non_cores[:, 1], c=dbscan.labels_[non_core_mask], marker=\".\")\n",
    "    if show_xlabels:\n",
    "        plt.xlabel(\"$x_1$\", fontsize=14)\n",
    "    else:\n",
    "        plt.tick_params(labelbottom=False)\n",
    "    if show_ylabels:\n",
    "        plt.ylabel(\"$x_2$\", fontsize=14, rotation=0)\n",
    "    else:\n",
    "        plt.tick_params(labelleft=False)\n",
    "    plt.title(\"eps={:.2f}, min_samples={}\".format(dbscan.eps, dbscan.min_samples), fontsize=14)"
   ]
  },
  {
   "cell_type": "code",
   "execution_count": null,
   "metadata": {},
   "outputs": [],
   "source": [
    "plt.figure(figsize=(9, 3.2))\n",
    "\n",
    "plt.subplot(121)\n",
    "plot_dbscan(dbscan, X, size=100)\n",
    "\n",
    "\n",
    "\n",
    "plt.show()\n"
   ]
  },
  {
   "cell_type": "code",
   "execution_count": null,
   "metadata": {},
   "outputs": [],
   "source": []
  }
 ],
 "metadata": {
  "kernelspec": {
   "display_name": "Python 3",
   "language": "python",
   "name": "python3"
  },
  "language_info": {
   "codemirror_mode": {
    "name": "ipython",
    "version": 3
   },
   "file_extension": ".py",
   "mimetype": "text/x-python",
   "name": "python",
   "nbconvert_exporter": "python",
   "pygments_lexer": "ipython3",
   "version": "3.7.3"
  }
 },
 "nbformat": 4,
 "nbformat_minor": 4
}
